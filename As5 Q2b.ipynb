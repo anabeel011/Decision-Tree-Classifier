{
 "cells": [
  {
   "cell_type": "code",
   "execution_count": 162,
   "metadata": {},
   "outputs": [],
   "source": [
    "import pandas as pd\n",
    "from sklearn.tree import DecisionTreeClassifier\n",
    "from sklearn.model_selection import train_test_split \n",
    "from sklearn import metrics "
   ]
  },
  {
   "cell_type": "code",
   "execution_count": 163,
   "metadata": {},
   "outputs": [
    {
     "data": {
      "text/html": [
       "<div>\n",
       "<style scoped>\n",
       "    .dataframe tbody tr th:only-of-type {\n",
       "        vertical-align: middle;\n",
       "    }\n",
       "\n",
       "    .dataframe tbody tr th {\n",
       "        vertical-align: top;\n",
       "    }\n",
       "\n",
       "    .dataframe thead th {\n",
       "        text-align: right;\n",
       "    }\n",
       "</style>\n",
       "<table border=\"1\" class=\"dataframe\">\n",
       "  <thead>\n",
       "    <tr style=\"text-align: right;\">\n",
       "      <th></th>\n",
       "      <th>department</th>\n",
       "      <th>status</th>\n",
       "      <th>age</th>\n",
       "      <th>salary</th>\n",
       "    </tr>\n",
       "  </thead>\n",
       "  <tbody>\n",
       "    <tr>\n",
       "      <th>0</th>\n",
       "      <td>sales</td>\n",
       "      <td>senior</td>\n",
       "      <td>31-35</td>\n",
       "      <td>46-50</td>\n",
       "    </tr>\n",
       "    <tr>\n",
       "      <th>1</th>\n",
       "      <td>sales</td>\n",
       "      <td>senior</td>\n",
       "      <td>31-35</td>\n",
       "      <td>46-50</td>\n",
       "    </tr>\n",
       "    <tr>\n",
       "      <th>2</th>\n",
       "      <td>sales</td>\n",
       "      <td>senior</td>\n",
       "      <td>31-35</td>\n",
       "      <td>46-50</td>\n",
       "    </tr>\n",
       "    <tr>\n",
       "      <th>3</th>\n",
       "      <td>sales</td>\n",
       "      <td>senior</td>\n",
       "      <td>31-35</td>\n",
       "      <td>46-50</td>\n",
       "    </tr>\n",
       "    <tr>\n",
       "      <th>4</th>\n",
       "      <td>sales</td>\n",
       "      <td>senior</td>\n",
       "      <td>31-35</td>\n",
       "      <td>46-50</td>\n",
       "    </tr>\n",
       "  </tbody>\n",
       "</table>\n",
       "</div>"
      ],
      "text/plain": [
       "  department  status    age salary\n",
       "0      sales  senior  31-35  46-50\n",
       "1      sales  senior  31-35  46-50\n",
       "2      sales  senior  31-35  46-50\n",
       "3      sales  senior  31-35  46-50\n",
       "4      sales  senior  31-35  46-50"
      ]
     },
     "execution_count": 163,
     "metadata": {},
     "output_type": "execute_result"
    }
   ],
   "source": [
    "#col_names = ['department', 'age', 'salary', 'count']\n",
    "data = pd.read_csv('Book2.csv')\n",
    "data = pd.DataFrame(data)\n",
    "data.head()"
   ]
  },
  {
   "cell_type": "code",
   "execution_count": 164,
   "metadata": {},
   "outputs": [],
   "source": [
    "Y = data['status']\n",
    "X = data[['department', 'age', 'salary']]\n",
    "X = pd.get_dummies(X)\n",
    "X_train, X_test, y_train, y_test = train_test_split(X, Y, test_size = 0.3, random_state = 100)"
   ]
  },
  {
   "cell_type": "code",
   "execution_count": 165,
   "metadata": {},
   "outputs": [],
   "source": [
    "clf = DecisionTreeClassifier(criterion='entropy', class_weight='balanced')"
   ]
  },
  {
   "cell_type": "code",
   "execution_count": 166,
   "metadata": {},
   "outputs": [],
   "source": [
    "clf = clf.fit(X_train,y_train)"
   ]
  },
  {
   "cell_type": "code",
   "execution_count": 167,
   "metadata": {},
   "outputs": [],
   "source": [
    "y_pred = clf.predict(X_test)"
   ]
  },
  {
   "cell_type": "code",
   "execution_count": 168,
   "metadata": {},
   "outputs": [
    {
     "name": "stdout",
     "output_type": "stream",
     "text": [
      "1.0\n"
     ]
    }
   ],
   "source": [
    "acc = metrics.accuracy_score(y_test, y_pred)\n",
    "print(acc)"
   ]
  },
  {
   "cell_type": "code",
   "execution_count": 169,
   "metadata": {},
   "outputs": [
    {
     "data": {
      "text/plain": [
       "[Text(251.10000000000002, 199.32, 'age_26-30 <= 0.5\\nentropy = 1.0\\nsamples = 115\\nvalue = [57.5, 57.5]\\nclass = junior'),\n",
       " Text(209.25, 163.07999999999998, 'salary_31-35 <= 0.5\\nentropy = 0.936\\nsamples = 79\\nvalue = [31.297, 57.5]\\nclass = junior'),\n",
       " Text(167.4, 126.83999999999999, 'age_21-25 <= 0.5\\nentropy = 0.633\\nsamples = 51\\nvalue = [10.918, 57.5]\\nclass = junior'),\n",
       " Text(125.55000000000001, 90.6, 'salary_41-45 <= 0.5\\nentropy = 0.167\\nsamples = 38\\nvalue = [1.456, 57.5]\\nclass = junior'),\n",
       " Text(83.7, 54.359999999999985, 'department_sales <= 0.5\\nentropy = 0.0\\nsamples = 36\\nvalue = [0.0, 57.5]\\nclass = junior'),\n",
       " Text(41.85, 18.119999999999976, 'entropy = 0.0\\nsamples = 16\\nvalue = [0.0, 25.556]\\nclass = junior'),\n",
       " Text(125.55000000000001, 18.119999999999976, 'entropy = 0.0\\nsamples = 20\\nvalue = [0.0, 31.944]\\nclass = junior'),\n",
       " Text(167.4, 54.359999999999985, 'entropy = -0.0\\nsamples = 2\\nvalue = [1.456, 0.0]\\nclass = senior'),\n",
       " Text(209.25, 90.6, 'entropy = -0.0\\nsamples = 13\\nvalue = [9.462, 0.0]\\nclass = senior'),\n",
       " Text(251.10000000000002, 126.83999999999999, 'entropy = -0.0\\nsamples = 28\\nvalue = [20.38, 0.0]\\nclass = senior'),\n",
       " Text(292.95, 163.07999999999998, 'entropy = -0.0\\nsamples = 36\\nvalue = [26.203, 0.0]\\nclass = senior')]"
      ]
     },
     "execution_count": 169,
     "metadata": {},
     "output_type": "execute_result"
    },
    {
     "data": {
      "image/png": "[encoded data removed]",
      "text/plain": [
       "<Figure size 432x288 with 1 Axes>"
      ]
     },
     "metadata": {
      "needs_background": "light"
     },
     "output_type": "display_data"
    }
   ],
   "source": [
    "from sklearn.tree import plot_tree\n",
    "\n",
    "tree.plot_tree(clf, feature_names=X.columns, class_names=['senior', 'junior'],filled=True)"
   ]
  },
  {
   "cell_type": "code",
   "execution_count": 170,
   "metadata": {},
   "outputs": [
    {
     "name": "stdout",
     "output_type": "stream",
     "text": [
      "|--- feature_5 <= 0.50\n",
      "|   |--- feature_11 <= 0.50\n",
      "|   |   |--- feature_4 <= 0.50\n",
      "|   |   |   |--- feature_13 <= 0.50\n",
      "|   |   |   |   |--- feature_1 <= 0.50\n",
      "|   |   |   |   |   |--- class: senior\n",
      "|   |   |   |   |--- feature_1 >  0.50\n",
      "|   |   |   |   |   |--- class: senior\n",
      "|   |   |   |--- feature_13 >  0.50\n",
      "|   |   |   |   |--- class: junior\n",
      "|   |   |--- feature_4 >  0.50\n",
      "|   |   |   |--- class: junior\n",
      "|   |--- feature_11 >  0.50\n",
      "|   |   |--- class: junior\n",
      "|--- feature_5 >  0.50\n",
      "|   |--- class: junior\n",
      "\n"
     ]
    }
   ],
   "source": [
    "text_rep = tree.export_text(clf)\n",
    "print(text_rep)"
   ]
  },
  {
   "cell_type": "code",
   "execution_count": null,
   "metadata": {},
   "outputs": [],
   "source": []
  }
 ],
 "metadata": {
  "kernelspec": {
   "display_name": "Python 3",
   "language": "python",
   "name": "python3"
  },
  "language_info": {
   "codemirror_mode": {
    "name": "ipython",
    "version": 3
   },
   "file_extension": ".py",
   "mimetype": "text/x-python",
   "name": "python",
   "nbconvert_exporter": "python",
   "pygments_lexer": "ipython3",
   "version": "3.8.5"
  }
 },
 "nbformat": 4,
 "nbformat_minor": 4
}
